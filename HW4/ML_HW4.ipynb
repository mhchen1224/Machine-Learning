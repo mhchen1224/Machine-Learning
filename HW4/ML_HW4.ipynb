{
  "nbformat": 4,
  "nbformat_minor": 0,
  "metadata": {
    "colab": {
      "provenance": []
    },
    "kernelspec": {
      "name": "python3",
      "display_name": "Python 3"
    },
    "language_info": {
      "name": "python"
    }
  },
  "cells": [
    {
      "cell_type": "code",
      "source": [
        "import gzip\n",
        "import numpy as np\n",
        "import array\n",
        "import math\n",
        "import numba as nb\n",
        "from numba.typed import List\n",
        "import matplotlib.pyplot as plt\n",
        "from tqdm import tqdm\n",
        "from numba import njit\n",
        "from scipy.optimize import linear_sum_assignment"
      ],
      "metadata": {
        "id": "1UupXYDBZYvK"
      },
      "execution_count": 1,
      "outputs": []
    },
    {
      "cell_type": "code",
      "source": [
        "def generate_data(m, v):\n",
        "    unif_value = np.random.uniform(0, 1, 12)\n",
        "    value = (sum(unif_value)-6)\n",
        "    return math.sqrt(v)*value + m"
      ],
      "metadata": {
        "id": "g0F4ttmQY49T"
      },
      "execution_count": 2,
      "outputs": []
    },
    {
      "cell_type": "code",
      "execution_count": 5,
      "metadata": {
        "colab": {
          "base_uri": "https://localhost:8080/"
        },
        "id": "owm_35avXAc7",
        "outputId": "45f8b85a-a32f-43cf-95d1-cb948e9a7d8d"
      },
      "outputs": [
        {
          "name": "stdout",
          "output_type": "stream",
          "text": [
            "input N mx1 vx1 my1 vy1 mx2 vx2 my2 vy2 (seperated by space): 50 1 2 1 2 3 4 3 4\n"
          ]
        }
      ],
      "source": [
        "inp = input(\"input N mx1 vx1 my1 vy1 mx2 vx2 my2 vy2 (seperated by space): \")\n",
        "inp = inp.split()\n",
        "N = int(inp[0])\n",
        "mx1 = float(inp[1])\n",
        "vx1 = float(inp[2])\n",
        "my1 = float(inp[3])\n",
        "vy1 = float(inp[4])\n",
        "mx2 = float(inp[5])\n",
        "vx2 = float(inp[6])\n",
        "my2 = float(inp[7])\n",
        "vy2 = float(inp[8])"
      ]
    },
    {
      "cell_type": "code",
      "source": [
        "Data = np.ones((2*N,3))\n",
        "label = np.vstack((np.zeros((N,1)), np.ones((N,1))))\n",
        "lr = 0.1\n",
        "max_epoch = 10000\n",
        "for i in range(N):\n",
        "    Data[i][0] = 1\n",
        "    Data[i][1] = generate_data(mx1,vx1)\n",
        "    Data[i][2] = generate_data(my1,vy1)\n",
        "\n",
        "    Data[i+N][0] = 1\n",
        "    Data[i+N][1] = generate_data(mx2,vx2)\n",
        "    Data[i+N][2] = generate_data(my2,vy2)\n",
        "\n",
        "w = np.zeros((3,1))\n",
        "pred = np.zeros((2*N,1))\n",
        "result = open(\"Q1_results.txt\", 'w')\n",
        "result.write(\"Gradient descent:\\n\\n\")\n",
        "for _ in range(max_epoch):\n",
        "    grad = np.dot(Data.T, label-1/(1+np.exp(-np.dot(Data,w))))\n",
        "    w = w + lr * grad\n",
        "    pred = 1/(1+np.exp(-np.dot(Data,w)))\n",
        "    pred = np.round(pred)\n",
        "\n",
        "    CM = np.zeros((2,2))\n",
        "    for i in range(N):\n",
        "        if pred[i][0] == label[i][0]:\n",
        "            CM[0][0] += 1\n",
        "        else:\n",
        "            CM[0][1] += 1\n",
        "\n",
        "        if pred[i+N][0] == label[i+N][0]:\n",
        "            CM[1][1] += 1\n",
        "        else:\n",
        "            CM[1][0] += 1\n",
        "\n",
        "result.write(f\"w:\\n {w[0][0]} {w[1][0]} {w[2][0]}\\n\")\n",
        "result.write(\"\\n\\nConfusion Matrix:\\n\")\n",
        "result.write(\"{0:>48}\".format(\"Predict cluster 1 Predict cluster 2\\n\"))\n",
        "result.write(f\"Is cluster 1 {CM[0][0]:12} {CM[0][1]:12}\\n\")\n",
        "result.write(f\"Is cluster 2 {CM[1][0]:12} {CM[1][1]:12}\\n\\n\")\n",
        "result.write(f\"Sensitivity (Successfully predict cluster 1): {CM[0][0]/(CM[0][0]+CM[0][1])}\\n\")\n",
        "result.write(f\"Specificity (Successfully predict cluster 2): {CM[1][1]/(CM[1][0]+CM[1][1])}\\n\")\n",
        "result.write(\"------------------------------------\\nNewton's method: \\n\\n\")\n",
        "\n",
        "w = np.zeros((3,1))\n",
        "for _ in range(max_epoch):\n",
        "    grad = np.dot(Data.T, label-1/(1+np.exp(-np.dot(Data,w))))\n",
        "    try:\n",
        "        parameter = (np.exp(-np.dot(Data,w)) / ((1 + np.exp(-np.dot(Data,w)))**2)).reshape(Data.shape[0])\n",
        "        D = np.diag(parameter)\n",
        "        Hessian_inv = np.linalg.inv(np.dot(Data.T,np.dot(D,Data)))\n",
        "        grad = Hessian_inv @ grad\n",
        "    except np.linalg.LinAlgError:\n",
        "        grad = grad\n",
        "    w = w + grad\n",
        "    pred = 1/(1+np.exp(-np.dot(Data,w)))\n",
        "    pred = np.round(pred)\n",
        "\n",
        "    CM = np.zeros((2,2))\n",
        "    for i in range(N):\n",
        "        if pred[i][0] == label[i][0]:\n",
        "            CM[0][0] += 1\n",
        "        else:\n",
        "            CM[0][1] += 1\n",
        "\n",
        "        if pred[i+N][0] == label[i+N][0]:\n",
        "            CM[1][1] += 1\n",
        "        else:\n",
        "            CM[1][0] += 1\n",
        "\n",
        "result.write(f\"w:\\n {w[0][0]} {w[1][0]} {w[2][0]}\\n\")\n",
        "result.write(\"\\n\\nConfusion Matrix:\\n\")\n",
        "result.write(\"{0:>48}\".format(\"Predict cluster 1 Predict cluster 2\\n\"))\n",
        "result.write(f\"Is cluster 1 {CM[0][0]:12} {CM[0][1]:12}\\n\")\n",
        "result.write(f\"Is cluster 2 {CM[1][0]:12} {CM[1][1]:12}\\n\\n\")\n",
        "result.write(f\"Sensitivity (Successfully predict cluster 1): {CM[0][0]/(CM[0][0]+CM[0][1])}\\n\")\n",
        "result.write(f\"Specificity (Successfully predict cluster 2): {CM[1][1]/(CM[1][0]+CM[1][1])}\\n\")\n",
        "result.close()\n",
        "fig, axs = plt.subplots(1, 3, figsize=(10, 8))\n",
        "axs[0].scatter(Data[0:N,1], Data[0:N,2], color='b')\n",
        "axs[0].scatter(Data[N:2*N,1], Data[N:2*N,2], color='r')\n",
        "axs[0].set_title('Ground Truth')\n",
        "\n",
        "for i in range(2*N):\n",
        "    if pred[i][0] >= 0.5:\n",
        "        axs[1].scatter(Data[i][1], Data[i][2], color='r')\n",
        "    else:\n",
        "        axs[1].scatter(Data[i][1], Data[i][2], color='b')\n",
        "axs[1].set_title('Gradient descent')\n",
        "\n",
        "for i in range(2*N):\n",
        "    if pred[i][0] >= 0.5:\n",
        "        axs[2].scatter(Data[i][1], Data[i][2], color='r')\n",
        "    else:\n",
        "        axs[2].scatter(Data[i][1], Data[i][2], color='b')\n",
        "axs[2].set_title('Newton\\'s method')\n",
        "\n",
        "fig.show()"
      ],
      "metadata": {
        "colab": {
          "base_uri": "https://localhost:8080/",
          "height": 699
        },
        "id": "JxcGa8kUbnIc",
        "outputId": "f3be1c07-4cf0-4dab-e851-0b57d180869a"
      },
      "execution_count": 6,
      "outputs": [
        {
          "output_type": "display_data",
          "data": {
            "text/plain": [
              "<Figure size 1000x800 with 3 Axes>"
            ],
            "image/png": "[encoded data removed]"
          },
          "metadata": {}
        }
      ]
    },
    {
      "cell_type": "code",
      "source": [
        "# Load the training dataset\n",
        "image_file = open(\"/content/train-images.idx3-ubyte\", \"rb\")\n",
        "magic_number = image_file.read(4) #magic number\n",
        "num_images = int.from_bytes(image_file.read(4), byteorder='big') #number of images\n",
        "num_rows = int.from_bytes(image_file.read(4), byteorder='big') #change char to integer\n",
        "num_columns = int.from_bytes(image_file.read(4), byteorder='big') #change char to integer\n",
        "image_size = num_rows * num_columns\n",
        "image = np.zeros((num_images, image_size), dtype=int)\n",
        "\n",
        "for i in range(num_images):\n",
        "    for j in range(image_size):\n",
        "        image[i][j] = int.from_bytes(image_file.read(1), byteorder='big')//128\n",
        "\n",
        "label_file = open(\"/content/train-labels.idx1-ubyte\", \"rb\")\n",
        "magic_number = label_file.read(4) #magic number\n",
        "num_labels = int.from_bytes(label_file.read(4), byteorder='big') #change char to integer\n",
        "labels = np.zeros(num_labels, dtype=int)\n",
        "\n",
        "for i in range(num_labels):\n",
        "    labels[i] = int.from_bytes(label_file.read(1), byteorder='big')\n"
      ],
      "metadata": {
        "id": "oeWMzgMHKwVm"
      },
      "execution_count": 7,
      "outputs": []
    },
    {
      "cell_type": "code",
      "source": [
        "def E_step(C,P,image):\n",
        "    w = np.zeros((num_images, 10))\n",
        "    #avoid underflow, in log scale\n",
        "    for i in range(num_images):\n",
        "        for j in range(10):\n",
        "            w[i][j] = np.log(C[j]) + np.sum(image[i] * np.log(P[j]+1e-10)) + np.sum((1 - image[i]) * np.log(1-P[j]+1e-10))\n",
        "        w[i] = np.exp(w[i] - max(w[i]))\n",
        "        w[i] = w[i] / np.sum(w[i])\n",
        "    return w\n",
        "\n",
        "\n",
        "def M_step(w,image, N):\n",
        "    C_ = np.ones(10)\n",
        "    for i in range(10):\n",
        "        C_[i] = np.sum(w.T[i]) / N\n",
        "\n",
        "    P = w.T @ image\n",
        "    for i in range(10):\n",
        "        sum = np.sum(w.T[i])\n",
        "        for j in range(image_size):\n",
        "            P[i][j] /= sum\n",
        "    return C_, P\n",
        "\n",
        "max_epoch = 100\n",
        "C = np.full((10),0.1)\n",
        "np.random.seed(42)\n",
        "P = np.random.rand(10, image_size)\n",
        "w = np.ones((num_images, 10))\n",
        "\n",
        "result = open(\"Q2_results.txt\",\"w\")\n",
        "for itr in tqdm(range(max_epoch)):\n",
        "    w_ = E_step(C,P,image)\n",
        "    C_,P_ = M_step(w_,image,num_images)\n",
        "    error_P = np.sum(abs(P-P_))\n",
        "    error_C = np.sum(abs(C-C_))\n",
        "    error_w = np.sum(abs(w-w_))\n",
        "    w = w_.copy()\n",
        "    P = P_.copy()\n",
        "    C = C_.copy()\n",
        "    # print(\"\\n{}'th iteration, w error: {}, P error: {}, C error: {}\".format(itr, error_w,error_P,error_C))\n",
        "    for i in range(10):\n",
        "        result.write(f\"class {i}:\\n\")\n",
        "        for j in range(num_rows):\n",
        "            for k in range(num_columns):\n",
        "                if P[i][j*num_columns+k] >=0.5:\n",
        "                    result.write(\"1 \")\n",
        "                else:\n",
        "                    result.write(\"0 \")\n",
        "            result.write(\"\\n\")\n",
        "        result.write(\"\\n\")\n",
        "    result.write(f\"No. of Iteration: {itr+1}, Difference: {error_w + error_P + error_C}\\n\")\n",
        "    if(error_w + error_P + error_C < 1e-3):\n",
        "        break\n",
        "\n",
        "label = np.zeros(10)\n",
        "for i in labels:\n",
        "    label[i] += 1\n",
        "\n",
        "distribution=np.zeros((10,784))\n",
        "for i in range(60000):\n",
        "    c=labels[i]\n",
        "    for j in range(784):\n",
        "        if image[i,j]==1:\n",
        "            distribution[c,j]+=1\n",
        "\n",
        "distribution = distribution / label.reshape(-1,1)\n",
        "\n",
        "Cost=np.zeros((10,10))\n",
        "for i in range(10):\n",
        "    for j in range(10):\n",
        "        Cost[i,j] = np.linalg.norm(distribution[i]-P[j])\n",
        "\n",
        "_, Label2Group = linear_sum_assignment(Cost)\n",
        "Group2Label = np.zeros((10))\n",
        "for i in range(10):\n",
        "    Group2Label[i] = int(np.where(Label2Group == i)[0][0])\n",
        "for lab in range(10):\n",
        "    result.write(f\"\\nlabeled class {lab}:\\n\")\n",
        "    for j in range(num_rows):\n",
        "        for k in range(num_columns):\n",
        "            if P[Label2Group[lab]][j*num_columns+k] >=0.4:\n",
        "                result.write(\"1 \")\n",
        "            else:\n",
        "                result.write(\"0 \")\n",
        "        result.write(\"\\n\")\n",
        "    result.write(\"\\n\")\n",
        "result.write(\"\\n-------------------------------------------------------------\")\n",
        "result.write(\"\\n-------------------------------------------------------------\\n\\n\")\n",
        "error_count = 0\n",
        "correct_count = 0\n",
        "for i in range(10):\n",
        "    CM = np.zeros((2,2))\n",
        "    for j in range(num_images):\n",
        "        pred_label = Group2Label[np.argmax(w[j])]\n",
        "        if labels[j] == i:\n",
        "            if labels[j] == pred_label:\n",
        "                CM[0][0] += 1\n",
        "                correct_count += 1\n",
        "            else:\n",
        "                CM[0][1] += 1\n",
        "                error_count += 1\n",
        "        else:\n",
        "            if i != pred_label:\n",
        "                CM[1][1] += 1\n",
        "            else:\n",
        "                CM[1][0] += 1\n",
        "    result.write(f\"Confusion matrix {i}:\\n\")\n",
        "    result.write(f\"                Predict number {i}   Predict not number {i}\\n\")\n",
        "    result.write(f\"Is number {i}   {CM[0][0]:15}   {CM[0][1]:15}\\n\")\n",
        "    result.write(f\"Isn't number {i} {CM[1][0]:14}   {CM[1][1]:15}\\n\\n\")\n",
        "    result.write(f\"Sensitivity (Successfully predict cluster 1): {CM[0][0]/(CM[0][0]+CM[0][1])}\\n\")\n",
        "    result.write(f\"Specificity (Successfully predict cluster 2): {CM[1][1]/(CM[1][0]+CM[1][1])}\\n\\n\")\n",
        "    result.write(\"\\n-------------------------------------------------------------\\n\\n\")\n",
        "\n",
        "\n",
        "result.write(f\"Total iteration to converge: {itr+1}\\n\")\n",
        "result.write(\"Total error rate: {}\".format(error_count/(error_count+correct_count)))\n",
        "result.close()"
      ],
      "metadata": {
        "colab": {
          "base_uri": "https://localhost:8080/"
        },
        "id": "3WY1G1Uxwb4G",
        "outputId": "c1d4ebb0-d871-4de1-8c77-9cd24b2c29f9"
      },
      "execution_count": 8,
      "outputs": [
        {
          "output_type": "stream",
          "name": "stderr",
          "text": [
            "100%|██████████| 100/100 [51:58<00:00, 31.18s/it]\n"
          ]
        }
      ]
    }
  ]
}
